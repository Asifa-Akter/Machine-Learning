{
 "cells": [
  {
   "cell_type": "code",
   "execution_count": 127,
   "metadata": {},
   "outputs": [],
   "source": [
    "import yfinance as yf #pip3 install yfinance\n",
    "import numpy as np\n"
   ]
  },
  {
   "cell_type": "code",
   "execution_count": 128,
   "metadata": {},
   "outputs": [
    {
     "name": "stdout",
     "output_type": "stream",
     "text": [
      "[*********************100%***********************]  1 of 1 completed\n"
     ]
    }
   ],
   "source": [
    "df=yf.download('^GSPC',start='2010-01-01')\n"
   ]
  },
  {
   "cell_type": "code",
   "execution_count": 129,
   "metadata": {},
   "outputs": [
    {
     "data": {
      "text/html": [
       "<div>\n",
       "<style scoped>\n",
       "    .dataframe tbody tr th:only-of-type {\n",
       "        vertical-align: middle;\n",
       "    }\n",
       "\n",
       "    .dataframe tbody tr th {\n",
       "        vertical-align: top;\n",
       "    }\n",
       "\n",
       "    .dataframe thead th {\n",
       "        text-align: right;\n",
       "    }\n",
       "</style>\n",
       "<table border=\"1\" class=\"dataframe\">\n",
       "  <thead>\n",
       "    <tr style=\"text-align: right;\">\n",
       "      <th></th>\n",
       "      <th>Open</th>\n",
       "      <th>High</th>\n",
       "      <th>Low</th>\n",
       "      <th>Close</th>\n",
       "      <th>Adj Close</th>\n",
       "      <th>Volume</th>\n",
       "    </tr>\n",
       "    <tr>\n",
       "      <th>Date</th>\n",
       "      <th></th>\n",
       "      <th></th>\n",
       "      <th></th>\n",
       "      <th></th>\n",
       "      <th></th>\n",
       "      <th></th>\n",
       "    </tr>\n",
       "  </thead>\n",
       "  <tbody>\n",
       "    <tr>\n",
       "      <th>2009-12-31</th>\n",
       "      <td>1126.599976</td>\n",
       "      <td>1127.640015</td>\n",
       "      <td>1114.810059</td>\n",
       "      <td>1115.099976</td>\n",
       "      <td>1115.099976</td>\n",
       "      <td>2076990000</td>\n",
       "    </tr>\n",
       "    <tr>\n",
       "      <th>2010-01-04</th>\n",
       "      <td>1116.560059</td>\n",
       "      <td>1133.869995</td>\n",
       "      <td>1116.560059</td>\n",
       "      <td>1132.989990</td>\n",
       "      <td>1132.989990</td>\n",
       "      <td>3991400000</td>\n",
       "    </tr>\n",
       "    <tr>\n",
       "      <th>2010-01-05</th>\n",
       "      <td>1132.660034</td>\n",
       "      <td>1136.630005</td>\n",
       "      <td>1129.660034</td>\n",
       "      <td>1136.520020</td>\n",
       "      <td>1136.520020</td>\n",
       "      <td>2491020000</td>\n",
       "    </tr>\n",
       "    <tr>\n",
       "      <th>2010-01-06</th>\n",
       "      <td>1135.709961</td>\n",
       "      <td>1139.189941</td>\n",
       "      <td>1133.949951</td>\n",
       "      <td>1137.140015</td>\n",
       "      <td>1137.140015</td>\n",
       "      <td>4972660000</td>\n",
       "    </tr>\n",
       "    <tr>\n",
       "      <th>2010-01-07</th>\n",
       "      <td>1136.270020</td>\n",
       "      <td>1142.459961</td>\n",
       "      <td>1131.319946</td>\n",
       "      <td>1141.689941</td>\n",
       "      <td>1141.689941</td>\n",
       "      <td>5270680000</td>\n",
       "    </tr>\n",
       "    <tr>\n",
       "      <th>...</th>\n",
       "      <td>...</td>\n",
       "      <td>...</td>\n",
       "      <td>...</td>\n",
       "      <td>...</td>\n",
       "      <td>...</td>\n",
       "      <td>...</td>\n",
       "    </tr>\n",
       "    <tr>\n",
       "      <th>2021-11-30</th>\n",
       "      <td>4640.250000</td>\n",
       "      <td>4646.020020</td>\n",
       "      <td>4560.000000</td>\n",
       "      <td>4567.000000</td>\n",
       "      <td>4567.000000</td>\n",
       "      <td>4950190000</td>\n",
       "    </tr>\n",
       "    <tr>\n",
       "      <th>2021-12-01</th>\n",
       "      <td>4602.819824</td>\n",
       "      <td>4652.939941</td>\n",
       "      <td>4510.270020</td>\n",
       "      <td>4513.040039</td>\n",
       "      <td>4513.040039</td>\n",
       "      <td>4078260000</td>\n",
       "    </tr>\n",
       "    <tr>\n",
       "      <th>2021-12-02</th>\n",
       "      <td>4504.729980</td>\n",
       "      <td>4595.459961</td>\n",
       "      <td>4504.729980</td>\n",
       "      <td>4577.100098</td>\n",
       "      <td>4577.100098</td>\n",
       "      <td>3771510000</td>\n",
       "    </tr>\n",
       "    <tr>\n",
       "      <th>2021-12-03</th>\n",
       "      <td>4589.490234</td>\n",
       "      <td>4608.029785</td>\n",
       "      <td>4495.120117</td>\n",
       "      <td>4538.430176</td>\n",
       "      <td>4538.430176</td>\n",
       "      <td>3971500000</td>\n",
       "    </tr>\n",
       "    <tr>\n",
       "      <th>2021-12-06</th>\n",
       "      <td>4548.370117</td>\n",
       "      <td>4612.600098</td>\n",
       "      <td>4540.509766</td>\n",
       "      <td>4591.669922</td>\n",
       "      <td>4591.669922</td>\n",
       "      <td>3305690000</td>\n",
       "    </tr>\n",
       "  </tbody>\n",
       "</table>\n",
       "<p>3004 rows × 6 columns</p>\n",
       "</div>"
      ],
      "text/plain": [
       "                   Open         High          Low        Close    Adj Close  \\\n",
       "Date                                                                          \n",
       "2009-12-31  1126.599976  1127.640015  1114.810059  1115.099976  1115.099976   \n",
       "2010-01-04  1116.560059  1133.869995  1116.560059  1132.989990  1132.989990   \n",
       "2010-01-05  1132.660034  1136.630005  1129.660034  1136.520020  1136.520020   \n",
       "2010-01-06  1135.709961  1139.189941  1133.949951  1137.140015  1137.140015   \n",
       "2010-01-07  1136.270020  1142.459961  1131.319946  1141.689941  1141.689941   \n",
       "...                 ...          ...          ...          ...          ...   \n",
       "2021-11-30  4640.250000  4646.020020  4560.000000  4567.000000  4567.000000   \n",
       "2021-12-01  4602.819824  4652.939941  4510.270020  4513.040039  4513.040039   \n",
       "2021-12-02  4504.729980  4595.459961  4504.729980  4577.100098  4577.100098   \n",
       "2021-12-03  4589.490234  4608.029785  4495.120117  4538.430176  4538.430176   \n",
       "2021-12-06  4548.370117  4612.600098  4540.509766  4591.669922  4591.669922   \n",
       "\n",
       "                Volume  \n",
       "Date                    \n",
       "2009-12-31  2076990000  \n",
       "2010-01-04  3991400000  \n",
       "2010-01-05  2491020000  \n",
       "2010-01-06  4972660000  \n",
       "2010-01-07  5270680000  \n",
       "...                ...  \n",
       "2021-11-30  4950190000  \n",
       "2021-12-01  4078260000  \n",
       "2021-12-02  3771510000  \n",
       "2021-12-03  3971500000  \n",
       "2021-12-06  3305690000  \n",
       "\n",
       "[3004 rows x 6 columns]"
      ]
     },
     "execution_count": 129,
     "metadata": {},
     "output_type": "execute_result"
    }
   ],
   "source": [
    "df"
   ]
  },
  {
   "cell_type": "code",
   "execution_count": 130,
   "metadata": {},
   "outputs": [],
   "source": [
    "df['returns']=np.log(df.Close.pct_change()+1)"
   ]
  },
  {
   "cell_type": "code",
   "execution_count": 131,
   "metadata": {},
   "outputs": [],
   "source": [
    "def lagit(df, lags):\n",
    "    names=[]\n",
    "    for i in range(1, lags+1):\n",
    "        df['Lag_'+str(i)]=df['returns'].shift(i)\n",
    "        names.append('Lag_'+str(i))\n",
    "    return names"
   ]
  },
  {
   "cell_type": "code",
   "execution_count": 132,
   "metadata": {},
   "outputs": [
    {
     "data": {
      "text/plain": [
       "LinearRegression()"
      ]
     },
     "execution_count": 132,
     "metadata": {},
     "output_type": "execute_result"
    }
   ],
   "source": [
    "lagnames=lagit(df,5)\n",
    "df.dropna(inplace=True)\n",
    "from sklearn.linear_model import LinearRegression\n",
    "model=LinearRegression()\n",
    "model.fit(df[lagnames], df['returns'])"
   ]
  },
  {
   "cell_type": "code",
   "execution_count": 133,
   "metadata": {},
   "outputs": [],
   "source": [
    "df['prediction_LR']=model.predict(df[lagnames])"
   ]
  },
  {
   "cell_type": "code",
   "execution_count": 134,
   "metadata": {},
   "outputs": [
    {
     "data": {
      "text/html": [
       "<div>\n",
       "<style scoped>\n",
       "    .dataframe tbody tr th:only-of-type {\n",
       "        vertical-align: middle;\n",
       "    }\n",
       "\n",
       "    .dataframe tbody tr th {\n",
       "        vertical-align: top;\n",
       "    }\n",
       "\n",
       "    .dataframe thead th {\n",
       "        text-align: right;\n",
       "    }\n",
       "</style>\n",
       "<table border=\"1\" class=\"dataframe\">\n",
       "  <thead>\n",
       "    <tr style=\"text-align: right;\">\n",
       "      <th></th>\n",
       "      <th>Open</th>\n",
       "      <th>High</th>\n",
       "      <th>Low</th>\n",
       "      <th>Close</th>\n",
       "      <th>Adj Close</th>\n",
       "      <th>Volume</th>\n",
       "      <th>returns</th>\n",
       "      <th>Lag_1</th>\n",
       "      <th>Lag_2</th>\n",
       "      <th>Lag_3</th>\n",
       "      <th>Lag_4</th>\n",
       "      <th>Lag_5</th>\n",
       "      <th>prediction_LR</th>\n",
       "    </tr>\n",
       "    <tr>\n",
       "      <th>Date</th>\n",
       "      <th></th>\n",
       "      <th></th>\n",
       "      <th></th>\n",
       "      <th></th>\n",
       "      <th></th>\n",
       "      <th></th>\n",
       "      <th></th>\n",
       "      <th></th>\n",
       "      <th></th>\n",
       "      <th></th>\n",
       "      <th></th>\n",
       "      <th></th>\n",
       "      <th></th>\n",
       "    </tr>\n",
       "  </thead>\n",
       "  <tbody>\n",
       "    <tr>\n",
       "      <th>2010-01-11</th>\n",
       "      <td>1145.959961</td>\n",
       "      <td>1149.739990</td>\n",
       "      <td>1142.020020</td>\n",
       "      <td>1146.979980</td>\n",
       "      <td>1146.979980</td>\n",
       "      <td>4255780000</td>\n",
       "      <td>0.001745</td>\n",
       "      <td>0.002878</td>\n",
       "      <td>0.003993</td>\n",
       "      <td>0.000545</td>\n",
       "      <td>0.003111</td>\n",
       "      <td>0.015916</td>\n",
       "      <td>0.000189</td>\n",
       "    </tr>\n",
       "    <tr>\n",
       "      <th>2010-01-12</th>\n",
       "      <td>1143.810059</td>\n",
       "      <td>1143.810059</td>\n",
       "      <td>1131.770020</td>\n",
       "      <td>1136.219971</td>\n",
       "      <td>1136.219971</td>\n",
       "      <td>4716160000</td>\n",
       "      <td>-0.009425</td>\n",
       "      <td>0.001745</td>\n",
       "      <td>0.002878</td>\n",
       "      <td>0.003993</td>\n",
       "      <td>0.000545</td>\n",
       "      <td>0.003111</td>\n",
       "      <td>0.000408</td>\n",
       "    </tr>\n",
       "    <tr>\n",
       "      <th>2010-01-13</th>\n",
       "      <td>1137.310059</td>\n",
       "      <td>1148.400024</td>\n",
       "      <td>1133.180054</td>\n",
       "      <td>1145.680054</td>\n",
       "      <td>1145.680054</td>\n",
       "      <td>4170360000</td>\n",
       "      <td>0.008291</td>\n",
       "      <td>-0.009425</td>\n",
       "      <td>0.001745</td>\n",
       "      <td>0.002878</td>\n",
       "      <td>0.003993</td>\n",
       "      <td>0.000545</td>\n",
       "      <td>0.001682</td>\n",
       "    </tr>\n",
       "    <tr>\n",
       "      <th>2010-01-14</th>\n",
       "      <td>1145.680054</td>\n",
       "      <td>1150.410034</td>\n",
       "      <td>1143.800049</td>\n",
       "      <td>1148.459961</td>\n",
       "      <td>1148.459961</td>\n",
       "      <td>3915200000</td>\n",
       "      <td>0.002423</td>\n",
       "      <td>0.008291</td>\n",
       "      <td>-0.009425</td>\n",
       "      <td>0.001745</td>\n",
       "      <td>0.002878</td>\n",
       "      <td>0.003993</td>\n",
       "      <td>-0.001647</td>\n",
       "    </tr>\n",
       "    <tr>\n",
       "      <th>2010-01-15</th>\n",
       "      <td>1147.719971</td>\n",
       "      <td>1147.770020</td>\n",
       "      <td>1131.390015</td>\n",
       "      <td>1136.030029</td>\n",
       "      <td>1136.030029</td>\n",
       "      <td>4758730000</td>\n",
       "      <td>-0.010882</td>\n",
       "      <td>0.002423</td>\n",
       "      <td>0.008291</td>\n",
       "      <td>-0.009425</td>\n",
       "      <td>0.001745</td>\n",
       "      <td>0.002878</td>\n",
       "      <td>0.000940</td>\n",
       "    </tr>\n",
       "    <tr>\n",
       "      <th>...</th>\n",
       "      <td>...</td>\n",
       "      <td>...</td>\n",
       "      <td>...</td>\n",
       "      <td>...</td>\n",
       "      <td>...</td>\n",
       "      <td>...</td>\n",
       "      <td>...</td>\n",
       "      <td>...</td>\n",
       "      <td>...</td>\n",
       "      <td>...</td>\n",
       "      <td>...</td>\n",
       "      <td>...</td>\n",
       "      <td>...</td>\n",
       "    </tr>\n",
       "    <tr>\n",
       "      <th>2021-11-30</th>\n",
       "      <td>4640.250000</td>\n",
       "      <td>4646.020020</td>\n",
       "      <td>4560.000000</td>\n",
       "      <td>4567.000000</td>\n",
       "      <td>4567.000000</td>\n",
       "      <td>4950190000</td>\n",
       "      <td>-0.019143</td>\n",
       "      <td>0.013114</td>\n",
       "      <td>-0.022987</td>\n",
       "      <td>0.002291</td>\n",
       "      <td>0.001656</td>\n",
       "      <td>-0.003202</td>\n",
       "      <td>-0.003363</td>\n",
       "    </tr>\n",
       "    <tr>\n",
       "      <th>2021-12-01</th>\n",
       "      <td>4602.819824</td>\n",
       "      <td>4652.939941</td>\n",
       "      <td>4510.270020</td>\n",
       "      <td>4513.040039</td>\n",
       "      <td>4513.040039</td>\n",
       "      <td>4078260000</td>\n",
       "      <td>-0.011886</td>\n",
       "      <td>-0.019143</td>\n",
       "      <td>0.013114</td>\n",
       "      <td>-0.022987</td>\n",
       "      <td>0.002291</td>\n",
       "      <td>0.001656</td>\n",
       "      <td>0.004555</td>\n",
       "    </tr>\n",
       "    <tr>\n",
       "      <th>2021-12-02</th>\n",
       "      <td>4504.729980</td>\n",
       "      <td>4595.459961</td>\n",
       "      <td>4504.729980</td>\n",
       "      <td>4577.100098</td>\n",
       "      <td>4577.100098</td>\n",
       "      <td>3771510000</td>\n",
       "      <td>0.014095</td>\n",
       "      <td>-0.011886</td>\n",
       "      <td>-0.019143</td>\n",
       "      <td>0.013114</td>\n",
       "      <td>-0.022987</td>\n",
       "      <td>0.002291</td>\n",
       "      <td>0.001719</td>\n",
       "    </tr>\n",
       "    <tr>\n",
       "      <th>2021-12-03</th>\n",
       "      <td>4589.490234</td>\n",
       "      <td>4608.029785</td>\n",
       "      <td>4495.120117</td>\n",
       "      <td>4538.430176</td>\n",
       "      <td>4538.430176</td>\n",
       "      <td>3971500000</td>\n",
       "      <td>-0.008484</td>\n",
       "      <td>0.014095</td>\n",
       "      <td>-0.011886</td>\n",
       "      <td>-0.019143</td>\n",
       "      <td>0.013114</td>\n",
       "      <td>-0.022987</td>\n",
       "      <td>-0.002782</td>\n",
       "    </tr>\n",
       "    <tr>\n",
       "      <th>2021-12-06</th>\n",
       "      <td>4548.370117</td>\n",
       "      <td>4612.600098</td>\n",
       "      <td>4540.509766</td>\n",
       "      <td>4591.669922</td>\n",
       "      <td>4591.669922</td>\n",
       "      <td>3305690000</td>\n",
       "      <td>0.011663</td>\n",
       "      <td>-0.008484</td>\n",
       "      <td>0.014095</td>\n",
       "      <td>-0.011886</td>\n",
       "      <td>-0.019143</td>\n",
       "      <td>0.013114</td>\n",
       "      <td>0.004219</td>\n",
       "    </tr>\n",
       "  </tbody>\n",
       "</table>\n",
       "<p>2998 rows × 13 columns</p>\n",
       "</div>"
      ],
      "text/plain": [
       "                   Open         High          Low        Close    Adj Close  \\\n",
       "Date                                                                          \n",
       "2010-01-11  1145.959961  1149.739990  1142.020020  1146.979980  1146.979980   \n",
       "2010-01-12  1143.810059  1143.810059  1131.770020  1136.219971  1136.219971   \n",
       "2010-01-13  1137.310059  1148.400024  1133.180054  1145.680054  1145.680054   \n",
       "2010-01-14  1145.680054  1150.410034  1143.800049  1148.459961  1148.459961   \n",
       "2010-01-15  1147.719971  1147.770020  1131.390015  1136.030029  1136.030029   \n",
       "...                 ...          ...          ...          ...          ...   \n",
       "2021-11-30  4640.250000  4646.020020  4560.000000  4567.000000  4567.000000   \n",
       "2021-12-01  4602.819824  4652.939941  4510.270020  4513.040039  4513.040039   \n",
       "2021-12-02  4504.729980  4595.459961  4504.729980  4577.100098  4577.100098   \n",
       "2021-12-03  4589.490234  4608.029785  4495.120117  4538.430176  4538.430176   \n",
       "2021-12-06  4548.370117  4612.600098  4540.509766  4591.669922  4591.669922   \n",
       "\n",
       "                Volume   returns     Lag_1     Lag_2     Lag_3     Lag_4  \\\n",
       "Date                                                                       \n",
       "2010-01-11  4255780000  0.001745  0.002878  0.003993  0.000545  0.003111   \n",
       "2010-01-12  4716160000 -0.009425  0.001745  0.002878  0.003993  0.000545   \n",
       "2010-01-13  4170360000  0.008291 -0.009425  0.001745  0.002878  0.003993   \n",
       "2010-01-14  3915200000  0.002423  0.008291 -0.009425  0.001745  0.002878   \n",
       "2010-01-15  4758730000 -0.010882  0.002423  0.008291 -0.009425  0.001745   \n",
       "...                ...       ...       ...       ...       ...       ...   \n",
       "2021-11-30  4950190000 -0.019143  0.013114 -0.022987  0.002291  0.001656   \n",
       "2021-12-01  4078260000 -0.011886 -0.019143  0.013114 -0.022987  0.002291   \n",
       "2021-12-02  3771510000  0.014095 -0.011886 -0.019143  0.013114 -0.022987   \n",
       "2021-12-03  3971500000 -0.008484  0.014095 -0.011886 -0.019143  0.013114   \n",
       "2021-12-06  3305690000  0.011663 -0.008484  0.014095 -0.011886 -0.019143   \n",
       "\n",
       "               Lag_5  prediction_LR  \n",
       "Date                                 \n",
       "2010-01-11  0.015916       0.000189  \n",
       "2010-01-12  0.003111       0.000408  \n",
       "2010-01-13  0.000545       0.001682  \n",
       "2010-01-14  0.003993      -0.001647  \n",
       "2010-01-15  0.002878       0.000940  \n",
       "...              ...            ...  \n",
       "2021-11-30 -0.003202      -0.003363  \n",
       "2021-12-01  0.001656       0.004555  \n",
       "2021-12-02  0.002291       0.001719  \n",
       "2021-12-03 -0.022987      -0.002782  \n",
       "2021-12-06  0.013114       0.004219  \n",
       "\n",
       "[2998 rows x 13 columns]"
      ]
     },
     "execution_count": 134,
     "metadata": {},
     "output_type": "execute_result"
    }
   ],
   "source": [
    "df"
   ]
  },
  {
   "cell_type": "code",
   "execution_count": 135,
   "metadata": {},
   "outputs": [],
   "source": [
    "df['direction_LR']=[1 if i>0 else -1 for i in df.prediction_LR]"
   ]
  },
  {
   "cell_type": "code",
   "execution_count": 136,
   "metadata": {},
   "outputs": [],
   "source": [
    "df['strat_LR']=df['direction_LR']*df['returns']"
   ]
  },
  {
   "cell_type": "code",
   "execution_count": 137,
   "metadata": {},
   "outputs": [
    {
     "data": {
      "text/plain": [
       "returns     4.010262\n",
       "strat_LR    8.080939\n",
       "dtype: float64"
      ]
     },
     "execution_count": 137,
     "metadata": {},
     "output_type": "execute_result"
    }
   ],
   "source": [
    "np.exp(df[['returns','strat_LR']].sum())"
   ]
  },
  {
   "cell_type": "code",
   "execution_count": 138,
   "metadata": {},
   "outputs": [
    {
     "data": {
      "text/plain": [
       "<matplotlib.axes._subplots.AxesSubplot at 0x1dc38479e80>"
      ]
     },
     "execution_count": 138,
     "metadata": {},
     "output_type": "execute_result"
    },
    {
     "data": {
      "image/png": "[encoded data removed]",
      "text/plain": [
       "<Figure size 432x288 with 1 Axes>"
      ]
     },
     "metadata": {
      "needs_background": "light"
     },
     "output_type": "display_data"
    }
   ],
   "source": [
    "np.exp(df[['returns','strat_LR']].cumsum()).plot()"
   ]
  },
  {
   "cell_type": "code",
   "execution_count": 158,
   "metadata": {},
   "outputs": [],
   "source": [
    "from sklearn.model_selection import train_test_split\n",
    "X,Y=train_test_split(df,shuffle=False,test_size=0.2,random_state=0)"
   ]
  },
  {
   "cell_type": "code",
   "execution_count": 159,
   "metadata": {},
   "outputs": [],
   "source": [
    "X=X.copy()"
   ]
  },
  {
   "cell_type": "code",
   "execution_count": 160,
   "metadata": {},
   "outputs": [],
   "source": [
    "Y=Y.copy()"
   ]
  },
  {
   "cell_type": "code",
   "execution_count": 161,
   "metadata": {},
   "outputs": [
    {
     "data": {
      "text/plain": [
       "LinearRegression()"
      ]
     },
     "execution_count": 161,
     "metadata": {},
     "output_type": "execute_result"
    }
   ],
   "source": [
    "model=LinearRegression()\n",
    "model.fit(X[lagnames],X['returns'])"
   ]
  },
  {
   "cell_type": "code",
   "execution_count": 165,
   "metadata": {},
   "outputs": [],
   "source": [
    "Y['prediction_LR']=model.predict(Y[lagnames])\n",
    "Y['direction_LR']=[1 if i>0 else -1 for i in Y.prediction_LR]"
   ]
  },
  {
   "cell_type": "code",
   "execution_count": 166,
   "metadata": {},
   "outputs": [],
   "source": [
    "Y['strat_LR']=Y['direction_LR']*Y['returns']"
   ]
  },
  {
   "cell_type": "code",
   "execution_count": 167,
   "metadata": {},
   "outputs": [
    {
     "data": {
      "text/plain": [
       "returns     1.538232\n",
       "strat_LR    1.575864\n",
       "dtype: float64"
      ]
     },
     "execution_count": 167,
     "metadata": {},
     "output_type": "execute_result"
    }
   ],
   "source": [
    "np.exp(Y[['returns','strat_LR']].sum())"
   ]
  },
  {
   "cell_type": "code",
   "execution_count": 170,
   "metadata": {},
   "outputs": [
    {
     "data": {
      "text/plain": [
       "<matplotlib.axes._subplots.AxesSubplot at 0x1dc39ec0a60>"
      ]
     },
     "execution_count": 170,
     "metadata": {},
     "output_type": "execute_result"
    },
    {
     "data": {
      "image/png": "[encoded data removed]",
      "text/plain": [
       "<Figure size 432x288 with 1 Axes>"
      ]
     },
     "metadata": {
      "needs_background": "light"
     },
     "output_type": "display_data"
    }
   ],
   "source": [
    "np.exp(Y[['returns','strat_LR']].cumsum()).plot()"
   ]
  },
  {
   "cell_type": "code",
   "execution_count": 180,
   "metadata": {},
   "outputs": [
    {
     "data": {
      "text/plain": [
       "False    305\n",
       "True     295\n",
       "Name: direction_LR, dtype: int64"
      ]
     },
     "execution_count": 180,
     "metadata": {},
     "output_type": "execute_result"
    }
   ],
   "source": [
    "(Y['direction_LR'].diff()!=0).value_counts()"
   ]
  },
  {
   "cell_type": "code",
   "execution_count": null,
   "metadata": {},
   "outputs": [],
   "source": []
  },
  {
   "cell_type": "code",
   "execution_count": null,
   "metadata": {},
   "outputs": [],
   "source": []
  }
 ],
 "metadata": {
  "kernelspec": {
   "display_name": "Python 3",
   "language": "python",
   "name": "python3"
  },
  "language_info": {
   "codemirror_mode": {
    "name": "ipython",
    "version": 3
   },
   "file_extension": ".py",
   "mimetype": "text/x-python",
   "name": "python",
   "nbconvert_exporter": "python",
   "pygments_lexer": "ipython3",
   "version": "3.8.3"
  }
 },
 "nbformat": 4,
 "nbformat_minor": 4
}
